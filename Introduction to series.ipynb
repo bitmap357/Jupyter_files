{
 "cells": [
  {
   "cell_type": "code",
   "execution_count": 14,
   "id": "cb09e31a",
   "metadata": {},
   "outputs": [],
   "source": [
    "import pandas as pd\n",
    "salary = {'John': 3000, 'Tim': 4000, 'Rob': 5000}"
   ]
  },
  {
   "cell_type": "code",
   "execution_count": 15,
   "id": "6c570db0",
   "metadata": {},
   "outputs": [
    {
     "data": {
      "text/plain": [
       "{'John': 3000, 'Tim': 4000, 'Rob': 5000}"
      ]
     },
     "execution_count": 15,
     "metadata": {},
     "output_type": "execute_result"
    }
   ],
   "source": [
    "salary"
   ]
  },
  {
   "cell_type": "code",
   "execution_count": null,
   "id": "d17b67d7",
   "metadata": {},
   "outputs": [],
   "source": [
    "se3 = pd.Series(salary)"
   ]
  },
  {
   "cell_type": "code",
   "execution_count": 17,
   "id": "260e6833",
   "metadata": {},
   "outputs": [
    {
     "data": {
      "text/plain": [
       "John    3000\n",
       "Tim     4000\n",
       "Rob     5000\n",
       "dtype: int64"
      ]
     },
     "execution_count": 17,
     "metadata": {},
     "output_type": "execute_result"
    }
   ],
   "source": [
    "se3"
   ]
  },
  {
   "cell_type": "code",
   "execution_count": 18,
   "id": "41df7cfd",
   "metadata": {},
   "outputs": [
    {
     "name": "stdout",
     "output_type": "stream",
     "text": [
      "Wow\n"
     ]
    }
   ],
   "source": [
    "print('Wow')"
   ]
  }
 ],
 "metadata": {
  "kernelspec": {
   "display_name": "Python 3 (ipykernel)",
   "language": "python",
   "name": "python3"
  },
  "language_info": {
   "codemirror_mode": {
    "name": "ipython",
    "version": 3
   },
   "file_extension": ".py",
   "mimetype": "text/x-python",
   "name": "python",
   "nbconvert_exporter": "python",
   "pygments_lexer": "ipython3",
   "version": "3.11.3"
  }
 },
 "nbformat": 4,
 "nbformat_minor": 5
}
